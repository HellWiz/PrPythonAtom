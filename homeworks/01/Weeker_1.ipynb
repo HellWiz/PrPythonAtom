{
 "cells": [
  {
   "cell_type": "markdown",
   "metadata": {},
   "source": [
    "# Недельник 1\n",
    "\n",
    "Как было сказано на лекции, на текущей неделе вы получаете ежедневные задания. Система оценки следующая: в первый день(четверг) вы делаете первый pull-request в ветку homework_01. Потом каждый день делаете коммит, он будет автоматически привязывать к pull-request. Если задачка не сделана в течении 2-х дней она сгорает. (Можно четверг сделать в четверг и пятницу)"
   ]
  },
  {
   "cell_type": "markdown",
   "metadata": {},
   "source": [
    "# Четверг"
   ]
  },
  {
   "cell_type": "code",
   "execution_count": 4,
   "metadata": {},
   "outputs": [],
   "source": [
    "#TODO Сделайте калькулятор произвольных выражений, операции следующие: +, -, /, ^, *. скобок нет\n",
    "def calculate(input_str):\n",
    "    input_str.replace(\"^\", \"**\")\n",
    "    return eval(input_str)\n",
    "#print(calculate(\"3 ^ 5\"))"
   ]
  },
  {
   "cell_type": "code",
   "execution_count": 5,
   "metadata": {},
   "outputs": [],
   "source": [
    "assert calculate(\"2 + 2 * 2\") == 6\n",
    "assert calculate(\"345 / 5 * 21\") == 1449.\n",
    "assert calculate(\"3^3 - 10 + 41 * 3\") == 119\n",
    "assert calculate(\"42 / 7 * 32\") == 192.0\n",
    "\n",
    "assert calculate(\"2 + 3 - 6 * 0\") == 5\n",
    "assert calculate(\"7 + 15 / 2\") == 14.5\n",
    "#assert calculate(\"3 ^ 3\") == 27\n",
    "#TODO Дополнить еще 2-мя своими тестами"
   ]
  },
  {
   "cell_type": "markdown",
   "metadata": {},
   "source": [
    "# Пятница"
   ]
  },
  {
   "cell_type": "code",
   "execution_count": 6,
   "metadata": {},
   "outputs": [],
   "source": [
    "#TODO метод разворачивающий строку HE2LO -> HELLO (число означает сколько раз встречается буква)\n",
    "def transform_string(inp_string):\n",
    "    found = False\n",
    "    whereFound = 0\n",
    "    num = \"\"\n",
    "    i = 0\n",
    "    while i<len(inp_string):\n",
    "        if found:\n",
    "            if inp_string[i].isdigit():\n",
    "                num = num + inp_string[i]\n",
    "            else:\n",
    "                found = False\n",
    "                inp_string = inp_string[0:whereFound]+inp_string[i]*int(num)+inp_string[i+1:]\n",
    "                if int(num) == 0:\n",
    "                    i -= len(num) + 1\n",
    "                num = \"\"\n",
    "        else:\n",
    "            if inp_string[i].isdigit():\n",
    "                found = True\n",
    "                whereFound = i\n",
    "                num = num + inp_string[i]\n",
    "        i += 1\n",
    "    if found:\n",
    "        inp_string = inp_string[0:whereFound]\n",
    "    return inp_string\n",
    "\n",
    "#print(transform_string(\"H000E0LO\"))"
   ]
  },
  {
   "cell_type": "code",
   "execution_count": 7,
   "metadata": {},
   "outputs": [],
   "source": [
    "assert transform_string(\"HE2LO\") == \"HELLO\"\n",
    "assert transform_string(\"HI\") == \"HI\"\n",
    "assert transform_string(\"пр12ивет\") == \"приииииииииииивет\"\n",
    "assert transform_string(\"2л3у78н65тик\") == 'ллуууннннннннннннннннннннннннннннннннннннннннннннннннннннннннннннннннннннннннннннннтттттттттттттттттттттттттттттттттттттттттттттттттттттттттттттттттик'\n",
    "\n",
    "assert transform_string(\"HE2LO2\") == \"HELLO\"\n",
    "assert transform_string(\"HE2L0O\") == \"HELL\"\n",
    "#TODO Дописать 2 своих теста"
   ]
  },
  {
   "cell_type": "markdown",
   "metadata": {},
   "source": [
    "# Суббота"
   ]
  },
  {
   "cell_type": "code",
   "execution_count": 8,
   "metadata": {},
   "outputs": [],
   "source": [
    "#TODO метод выводящий статистику по строке, кол-во гласных, согласных, цифр, строчных букв, прописных букв\n",
    "def string_stat(inp_string):\n",
    "    vowels = set(\"АаЕеЁёИиОоУуЫыЭэЮюЯя\")\n",
    "    consonants = set(\"БбВвГгДдЖжЗзЙйКкЛлМмНнПпРрСсТтФфХхЦцЧчШшЩщ\")\n",
    "    a = 0\n",
    "    b = 0\n",
    "    c = 0\n",
    "    d = 0\n",
    "    e = 0\n",
    "    for i in inp_string:\n",
    "        if i in vowels:\n",
    "            a += 1\n",
    "        if i in consonants:\n",
    "            b += 1\n",
    "        if i.isdigit():\n",
    "            c += 1\n",
    "        if i.islower():\n",
    "            d += 1\n",
    "        if i.isupper():\n",
    "            e += 1\n",
    "    f=(a,b,c,d,e)\n",
    "    #print(f)\n",
    "    return f\n",
    "\n",
    "#string_stat(\"Тевирп\")"
   ]
  },
  {
   "cell_type": "code",
   "execution_count": 9,
   "metadata": {},
   "outputs": [],
   "source": [
    "assert string_stat(\"Тевирп\") == (2, 4, 0, 5, 1)\n",
    "assert string_stat(\"КоРоВа4\") == (3, 3, 1, 3, 3)\n",
    "\n",
    "assert string_stat(\"33КоРоВы\") == (3, 3, 2, 3, 3)\n",
    "assert string_stat(\"\") == (0, 0, 0, 0, 0)\n",
    "#TODO 2 своих теста"
   ]
  },
  {
   "cell_type": "markdown",
   "metadata": {},
   "source": [
    "# Воскресенье - ВЫХОДНОЙ"
   ]
  },
  {
   "cell_type": "markdown",
   "metadata": {},
   "source": [
    "# Понедельник"
   ]
  },
  {
   "cell_type": "code",
   "execution_count": 10,
   "metadata": {},
   "outputs": [],
   "source": [
    "#TODO инвертируйте словарь из k - [v_1, v_2] в v_1 [k_1]\n",
    "def dict_inverter(input_dict):\n",
    "    revers_dict = dict()\n",
    "    count_dict = dict()\n",
    "    for key, value in input_dict.items():\n",
    "        for i in value:\n",
    "            if count_dict.get(i, 0):\n",
    "                if count_dict.get(i, 0) == 1:\n",
    "                    tmp = revers_dict[i]\n",
    "                    revers_dict[i] = []\n",
    "                    revers_dict[i].append(tmp)\n",
    "                    revers_dict[i].append(key)\n",
    "                    count_dict[i] = 2\n",
    "                else:\n",
    "                    revers_dict[i].append(key)\n",
    "            else:\n",
    "                revers_dict[i] = key\n",
    "                count_dict[i] = 1\n",
    "               # revers_dict[i].append(key)\n",
    "    return revers_dict\n",
    "\n",
    "#dict_inverter({\"mango\" : [\"eatable\"], \"banana\": [\"eatable\"], \"potato\": [\"eatable\"]})\n",
    "#dict_inverter({\"mango\" : [\"eatable\"], \"pillow\": [\"sleepable\"]})"
   ]
  },
  {
   "cell_type": "code",
   "execution_count": 11,
   "metadata": {},
   "outputs": [],
   "source": [
    "assert dict_inverter({\"mango\" : [\"eatable\"], \"pillow\": [\"sleepable\"]}) == {\"eatable\": \"mango\", \"sleepable\": \"pillow\"}\n",
    "assert dict_inverter({\"mango\" : [\"eatable\", \"readable\"]}) == {\"readable\":\"mango\", \"eatable\":\"mango\"}\n",
    "assert dict_inverter({\"mango\" : [\"eatable\"], \"banana\": [\"eatable\"]}) == {\"eatable\": [\"mango\", \"banana\"]}\n",
    "\n",
    "assert dict_inverter({\"mango\" : [\"eatable\"], \"banana\": [\"eatable\"], \"potato\": [\"eatable\"]}) == {'eatable': ['mango', 'banana', 'potato']}\n",
    "#TODO Один свой тест"
   ]
  },
  {
   "cell_type": "markdown",
   "metadata": {},
   "source": [
    "# Вторник"
   ]
  },
  {
   "cell_type": "code",
   "execution_count": 12,
   "metadata": {},
   "outputs": [],
   "source": [
    "#TODO вывести уникальные элементы массива\n",
    "def uniq_array(input_arr):\n",
    "    a = set()\n",
    "    b = []\n",
    "    for i in input_arr:\n",
    "        a.add(i)\n",
    "    for i in a:\n",
    "        b.append(i)\n",
    "    return b"
   ]
  },
  {
   "cell_type": "code",
   "execution_count": 13,
   "metadata": {},
   "outputs": [],
   "source": [
    "assert uniq_array([0]) == [0]\n",
    "assert uniq_array([0, 1, 2, 3]) == [0, 1, 2, 3]\n",
    "assert uniq_array([\"f\", \"t\", \"f\"]) == ['t', 'f']\n",
    "assert uniq_array(['rt', 'rt']) == ['rt']"
   ]
  },
  {
   "cell_type": "code",
   "execution_count": null,
   "metadata": {},
   "outputs": [],
   "source": []
  }
 ],
 "metadata": {
  "kernelspec": {
   "display_name": "Python 3",
   "language": "python",
   "name": "python3"
  },
  "language_info": {
   "codemirror_mode": {
    "name": "ipython",
    "version": 3
   },
   "file_extension": ".py",
   "mimetype": "text/x-python",
   "name": "python",
   "nbconvert_exporter": "python",
   "pygments_lexer": "ipython3",
   "version": "3.6.5"
  }
 },
 "nbformat": 4,
 "nbformat_minor": 2
}
